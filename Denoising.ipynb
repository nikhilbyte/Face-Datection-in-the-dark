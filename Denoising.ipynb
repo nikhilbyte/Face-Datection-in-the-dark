{
  "nbformat": 4,
  "nbformat_minor": 0,
  "metadata": {
    "colab": {
      "name": "Denoising.ipynb",
      "provenance": []
    },
    "kernelspec": {
      "name": "python3",
      "display_name": "Python 3"
    },
    "language_info": {
      "name": "python"
    },
    "accelerator": "GPU"
  },
  "cells": [
    {
      "cell_type": "code",
      "metadata": {
        "id": "2vbZ0HsS6Ps0",
        "colab": {
          "base_uri": "https://localhost:8080/"
        },
        "outputId": "1d21ec74-8c1d-4e5b-9160-b2195c711d93"
      },
      "source": [
        "!git clone https://github.com/swz30/MPRNet.git"
      ],
      "execution_count": null,
      "outputs": [
        {
          "output_type": "stream",
          "text": [
            "Cloning into 'MPRNet'...\n",
            "remote: Enumerating objects: 288, done.\u001b[K\n",
            "remote: Counting objects: 100% (16/16), done.\u001b[K\n",
            "remote: Compressing objects: 100% (16/16), done.\u001b[K\n",
            "remote: Total 288 (delta 6), reused 0 (delta 0), pack-reused 272\u001b[K\n",
            "Receiving objects: 100% (288/288), 76.16 KiB | 10.88 MiB/s, done.\n",
            "Resolving deltas: 100% (149/149), done.\n"
          ],
          "name": "stdout"
        }
      ]
    },
    {
      "cell_type": "code",
      "metadata": {
        "colab": {
          "base_uri": "https://localhost:8080/"
        },
        "id": "hRd1NpPXFLDX",
        "outputId": "7e0b8636-fd08-4da2-b481-7a90abebe7d4"
      },
      "source": [
        "from google.colab import drive\n",
        "drive.mount('/content/drive')"
      ],
      "execution_count": null,
      "outputs": [
        {
          "output_type": "stream",
          "text": [
            "Mounted at /content/drive\n"
          ],
          "name": "stdout"
        }
      ]
    },
    {
      "cell_type": "code",
      "metadata": {
        "colab": {
          "base_uri": "https://localhost:8080/"
        },
        "id": "eJXG_CaiB2fG",
        "outputId": "ea58c59e-bce6-4ff7-aa40-f891f833d78e"
      },
      "source": [
        "cd MPRNet/"
      ],
      "execution_count": null,
      "outputs": [
        {
          "output_type": "stream",
          "text": [
            "/content/MPRNet\n"
          ],
          "name": "stdout"
        }
      ]
    },
    {
      "cell_type": "code",
      "metadata": {
        "id": "3OMNiPCACqs1"
      },
      "source": [
        "!cp /content/drive/MyDrive/model_denoising.pth /content/MPRNet/Denoising/pretrained_models"
      ],
      "execution_count": null,
      "outputs": []
    },
    {
      "cell_type": "code",
      "metadata": {
        "id": "HNsghuEKJ26m"
      },
      "source": [
        "!mkdir ../final_denoised"
      ],
      "execution_count": null,
      "outputs": []
    },
    {
      "cell_type": "code",
      "metadata": {
        "colab": {
          "base_uri": "https://localhost:8080/"
        },
        "id": "xUW02r4xBiw_",
        "outputId": "3fe87012-8489-4b7a-b458-487653dc5b4f"
      },
      "source": [
        "!python demo.py --task Denoising --input_dir /content/drive/MyDrive/enlightened/image --result_dir /content/final_denoised"
      ],
      "execution_count": null,
      "outputs": [
        {
          "output_type": "stream",
          "text": [
            "/usr/local/lib/python3.7/dist-packages/torch/nn/functional.py:3503: UserWarning: The default behavior for interpolate/upsample with float scale_factor changed in 1.6.0 to align with other frameworks/libraries, and now uses scale_factor directly, instead of relying on the computed output size. If you wish to restore the old behavior, please set recompute_scale_factor=True. See the documentation of nn.Upsample for details. \n",
            "  \"The default behavior for interpolate/upsample with float scale_factor changed \"\n",
            "Files saved at /content/final_denoised\n"
          ],
          "name": "stdout"
        }
      ]
    },
    {
      "cell_type": "code",
      "metadata": {
        "id": "hxCnJgUvB1mT"
      },
      "source": [
        "!cp -r /content/final_denoised /content/drive/MyDrive"
      ],
      "execution_count": null,
      "outputs": []
    },
    {
      "cell_type": "code",
      "metadata": {
        "id": "YBY2mWFx7vmY"
      },
      "source": [
        "import os\n",
        "(os.listdir(\"/content/drive/MyDrive/final_denoised\"))"
      ],
      "execution_count": null,
      "outputs": []
    }
  ]
}